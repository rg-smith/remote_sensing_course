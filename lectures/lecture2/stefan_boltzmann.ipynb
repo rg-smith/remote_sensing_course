{
  "nbformat": 4,
  "nbformat_minor": 0,
  "metadata": {
    "colab": {
      "name": "stefan_boltzmann.ipynb",
      "provenance": [],
      "collapsed_sections": [],
      "authorship_tag": "ABX9TyP1aCFZCqZ62ym0ZXrwwb9h",
      "include_colab_link": true
    },
    "kernelspec": {
      "name": "python3",
      "display_name": "Python 3"
    }
  },
  "cells": [
    {
      "cell_type": "markdown",
      "metadata": {
        "id": "view-in-github",
        "colab_type": "text"
      },
      "source": [
        "<a href=\"https://colab.research.google.com/github/rg-smith/remote_sensing_course/blob/main/lectures/lecture2/stefan_boltzmann.ipynb\" target=\"_parent\"><img src=\"https://colab.research.google.com/assets/colab-badge.svg\" alt=\"Open In Colab\"/></a>"
      ]
    },
    {
      "cell_type": "code",
      "metadata": {
        "id": "baZc8KS43VZr"
      },
      "source": [
        "import numpy as np # for numerical analysis\n",
        "import matplotlib.pyplot as plt # for plotting"
      ],
      "execution_count": null,
      "outputs": []
    },
    {
      "cell_type": "markdown",
      "metadata": {
        "id": "BBtfia1L3fvL"
      },
      "source": [
        "First we'll define the variable sigma"
      ]
    },
    {
      "cell_type": "code",
      "metadata": {
        "id": "0iBqjFcI3cnx"
      },
      "source": [
        "sigma=5.6697e-8"
      ],
      "execution_count": null,
      "outputs": []
    },
    {
      "cell_type": "markdown",
      "metadata": {
        "id": "5_MMhUsV4RZA"
      },
      "source": [
        "Now we'll make a vector, T, representing temperature. It will have a length of 50, and range from 0 to 6000."
      ]
    },
    {
      "cell_type": "code",
      "metadata": {
        "id": "kyIU29xq3oNu"
      },
      "source": [
        "T=np.linspace(0,6000,50)"
      ],
      "execution_count": null,
      "outputs": []
    },
    {
      "cell_type": "markdown",
      "metadata": {
        "id": "CXePe2wn4Wb4"
      },
      "source": [
        "print a few values of T. Python indexing starts from 0. 0 is the first value, 49 is the last."
      ]
    },
    {
      "cell_type": "code",
      "metadata": {
        "id": "qlszGMbw3wMW"
      },
      "source": [
        "print(T[0])"
      ],
      "execution_count": null,
      "outputs": []
    },
    {
      "cell_type": "code",
      "metadata": {
        "id": "Ul2XU1si3xfl"
      },
      "source": [
        "print(T[49])"
      ],
      "execution_count": null,
      "outputs": []
    },
    {
      "cell_type": "markdown",
      "metadata": {
        "id": "nPncEnK64dG7"
      },
      "source": [
        "Now define M, total radiant exitance, and print M to see what the values look like"
      ]
    },
    {
      "cell_type": "code",
      "metadata": {
        "id": "RF2I7N6_3yj2"
      },
      "source": [
        "M=sigma*(T**4)\n",
        "print(M)"
      ],
      "execution_count": null,
      "outputs": []
    },
    {
      "cell_type": "markdown",
      "metadata": {
        "id": "DnD0oE-s4iKU"
      },
      "source": [
        "Now we'll plot T on the x axis and M on the y axis"
      ]
    },
    {
      "cell_type": "code",
      "metadata": {
        "id": "6XUZ6D_E32S5"
      },
      "source": [
        "plt.figure()\n",
        "plt.plot(T,M)\n",
        "plt.xlabel('Absolute temperature, K')\n",
        "plt.ylabel('Total radiant exitance')"
      ],
      "execution_count": null,
      "outputs": []
    },
    {
      "cell_type": "markdown",
      "metadata": {
        "id": "Wm-UL1mb4kqs"
      },
      "source": [
        "They seem to have a logarithmic relationship, so we'll plot on a log-log scale"
      ]
    },
    {
      "cell_type": "code",
      "metadata": {
        "id": "AIeu-7Ew34ll"
      },
      "source": [
        "plt.figure()\n",
        "plt.loglog(T,M)\n",
        "plt.xlabel('Absolute temperature, K')\n",
        "plt.ylabel('Total radiant exitance')"
      ],
      "execution_count": null,
      "outputs": []
    }
  ]
}