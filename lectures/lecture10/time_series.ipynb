{
  "nbformat": 4,
  "nbformat_minor": 0,
  "metadata": {
    "colab": {
      "name": "time_series.ipynb",
      "provenance": [],
      "collapsed_sections": [],
      "authorship_tag": "ABX9TyP7+TQFc43H3rGc2kG7EL2e",
      "include_colab_link": true
    },
    "kernelspec": {
      "name": "python3",
      "display_name": "Python 3"
    },
    "language_info": {
      "name": "python"
    }
  },
  "cells": [
    {
      "cell_type": "markdown",
      "metadata": {
        "id": "view-in-github",
        "colab_type": "text"
      },
      "source": [
        "<a href=\"https://colab.research.google.com/github/rg-smith/remote_sensing_course/blob/main/lectures/lecture10/time_series.ipynb\" target=\"_parent\"><img src=\"https://colab.research.google.com/assets/colab-badge.svg\" alt=\"Open In Colab\"/></a>"
      ]
    },
    {
      "cell_type": "markdown",
      "metadata": {
        "id": "dA3tk24eJ4Uz"
      },
      "source": [
        "### Time Series Analysis\n",
        "This code was modified from the Google Earth Engine python api tutorial created by guiattard (https://developers.google.com/earth-engine/tutorials/community/intro-to-python-api-guiattard)"
      ]
    },
    {
      "cell_type": "markdown",
      "metadata": {
        "id": "X0THNvPeKFrQ"
      },
      "source": [
        "First, we will initialize Google Earth Engine"
      ]
    },
    {
      "cell_type": "code",
      "metadata": {
        "id": "KtqZEW7hxHxw"
      },
      "source": [
        "import ee\n",
        "\n",
        "# Trigger the authentication flow.\n",
        "ee.Authenticate()\n",
        "\n",
        "# Initialize the library.\n",
        "ee.Initialize()"
      ],
      "execution_count": null,
      "outputs": []
    },
    {
      "cell_type": "markdown",
      "metadata": {
        "id": "EPDWJDsRKcvI"
      },
      "source": [
        "Now, we will gather the image collections we are using."
      ]
    },
    {
      "cell_type": "code",
      "metadata": {
        "id": "aNrXYPUYxQC4"
      },
      "source": [
        "# Initial date of interest (inclusive).\n",
        "i_date = '2017-01-01'\n",
        "\n",
        "# Final date of interest (exclusive).\n",
        "f_date = '2020-01-01'\n",
        "\n",
        "# Import the MODIS land cover collection.\n",
        "lc = ee.ImageCollection('MODIS/006/MCD12Q1')\n",
        "\n",
        "# Import the MODIS land surface temperature collection.\n",
        "lst = ee.ImageCollection('MODIS/006/MOD11A2')\n",
        "lst = lst.select('LST_Day_1km','QC_Day').filterDate(i_date,f_date)\n",
        "\n",
        "# Import the USGS ground elevation image.\n",
        "elv = ee.Image('USGS/SRTMGL1_003')\n",
        "\n",
        "ndvi = ee.ImageCollection('MODIS/006/MOD13A2')\n",
        "ndvi = ndvi.filterDate(i_date,f_date)"
      ],
      "execution_count": 18,
      "outputs": []
    },
    {
      "cell_type": "markdown",
      "metadata": {
        "id": "Pbc-0fx8KhQY"
      },
      "source": [
        "**Input the coordinates of your area of interest. Replace the coordinates in u_lon and u_lat**"
      ]
    },
    {
      "cell_type": "code",
      "metadata": {
        "id": "8mbRSe6XxTDQ"
      },
      "source": [
        "# Define the urban location of interest as a point near Lyon, France.\n",
        "u_lon = 4.8148\n",
        "u_lat = 45.7758\n",
        "u_poi = ee.Geometry.Point(u_lon, u_lat)"
      ],
      "execution_count": 19,
      "outputs": []
    },
    {
      "cell_type": "markdown",
      "metadata": {
        "id": "e8MGpCzMKmEw"
      },
      "source": [
        "Calculate average values over your area of interest. If you are above 60 degrees north (or below 60 degrees south), comment out the elevation lines."
      ]
    },
    {
      "cell_type": "code",
      "metadata": {
        "id": "vIW1MueoxYcg"
      },
      "source": [
        "scale = 1000  # scale in meters\n",
        "\n",
        "# Print the elevation near Lyon, France.\n",
        "elv_urban_point = elv.sample(u_poi, scale).first().get('elevation').getInfo()\n",
        "print('Ground elevation at point:', elv_urban_point, 'm')\n",
        "\n",
        "# Calculate and print the mean value of the LST collection at the point.\n",
        "lst_urban_point = lst.mean().sample(u_poi, scale).first().get('LST_Day_1km').getInfo()\n",
        "print('Average daytime LST at point:', round(lst_urban_point*0.02 -273.15, 2), '°C')\n",
        "\n",
        "# Print the land cover type at the point.\n",
        "lc_urban_point = lc.first().sample(u_poi, scale).first().get('LC_Type1').getInfo()\n",
        "print('Land cover value at point is:', lc_urban_point)\n",
        "\n",
        "# Calculate and Print the mean NDVI at the point.\n",
        "ndvi_urban_point = ndvi.mean().sample(u_poi, scale).first().get('NDVI').getInfo()\n",
        "print('Land cover value at point is:', lc_urban_point)"
      ],
      "execution_count": null,
      "outputs": []
    },
    {
      "cell_type": "markdown",
      "metadata": {
        "id": "7WYtkoFVKysa"
      },
      "source": [
        "Now you will extract the data over all times from these points."
      ]
    },
    {
      "cell_type": "code",
      "metadata": {
        "id": "oMX63GIUxbOd"
      },
      "source": [
        "# The buffer zone we consider around each point.\n",
        "point_buffer = 1000  # meters\n",
        "\n",
        "# Get the temperature data for the point of interest.\n",
        "lst_u_poi = lst.getRegion(u_poi, point_buffer).getInfo()\n",
        "\n",
        "# Get the ndvi data for the point of interest\n",
        "ndvi_u_poi = ndvi.getRegion(u_poi, point_buffer).getInfo()\n",
        "\n",
        "# Preview the result.\n",
        "lst_u_poi[:5]"
      ],
      "execution_count": null,
      "outputs": []
    },
    {
      "cell_type": "markdown",
      "metadata": {
        "id": "vs7UWEqbK5Mh"
      },
      "source": [
        "Define a function that transforms your google earth engine dataset to a data frame."
      ]
    },
    {
      "cell_type": "code",
      "metadata": {
        "id": "j0OlbftuxkzC"
      },
      "source": [
        "import pandas as pd\n",
        "\n",
        "def ee_array_to_df(arr, list_of_bands):\n",
        "    \"\"\"Transforms client-side ee.Image.getRegion array to pandas.DataFrame.\"\"\"\n",
        "    df = pd.DataFrame(arr)\n",
        "\n",
        "    # Rearrange the header.\n",
        "    headers = df.iloc[0]\n",
        "    df = pd.DataFrame(df.values[1:], columns=headers)\n",
        "\n",
        "    # Remove rows without data inside.\n",
        "    df = df[['longitude', 'latitude', 'time', *list_of_bands]].dropna()\n",
        "\n",
        "    # Convert the data to numeric values.\n",
        "    for band in list_of_bands:\n",
        "        df[band] = pd.to_numeric(df[band], errors='coerce')\n",
        "\n",
        "    # Convert the time field into a datetime.\n",
        "    df['datetime'] = pd.to_datetime(df['time'], unit='ms')\n",
        "\n",
        "    # Keep the columns of interest.\n",
        "    df = df[['time','datetime',  *list_of_bands]]\n",
        "\n",
        "    return df"
      ],
      "execution_count": 22,
      "outputs": []
    },
    {
      "cell_type": "markdown",
      "metadata": {
        "id": "rl4yTX_2MC9r"
      },
      "source": [
        "Use your function to convert temperature and ndvi to a dataframe."
      ]
    },
    {
      "cell_type": "code",
      "metadata": {
        "id": "-q78Z_JDxpfN"
      },
      "source": [
        "lst_df_urban = ee_array_to_df(lst_u_poi,['LST_Day_1km'])\n",
        "ndvi_df = ee_array_to_df(ndvi_u_poi,['NDVI'])\n",
        "\n",
        "def t_modis_to_celsius(t_modis):\n",
        "    \"\"\"Converts MODIS LST units to degrees Celsius.\"\"\"\n",
        "    t_celsius =  0.02*t_modis - 273.15\n",
        "    return t_celsius\n",
        "\n",
        "# Apply the function to get temperature in celsius.\n",
        "lst_df_urban['LST_Day_1km'] = lst_df_urban['LST_Day_1km'].apply(t_modis_to_celsius)\n",
        "\n",
        "lst_df_urban.head()\n",
        "ndvi_df.head()"
      ],
      "execution_count": null,
      "outputs": []
    },
    {
      "cell_type": "markdown",
      "metadata": {
        "id": "WGUNPajnMGgD"
      },
      "source": [
        "Plot the temperature over time"
      ]
    },
    {
      "cell_type": "code",
      "metadata": {
        "id": "NYbsn7NM_XBh"
      },
      "source": [
        "import matplotlib.pyplot as plt\n",
        "import numpy as np\n",
        "%matplotlib inline\n",
        "\n",
        "## First, extract x values (times) from the dfs.\n",
        "x_data_u = np.asanyarray(lst_df_urban['time'].apply(float))  # urban\n",
        "\n",
        "## Secondly, extract y values (LST) from the dfs.\n",
        "y_data_u = np.asanyarray(lst_df_urban['LST_Day_1km'].apply(float))  # urban\n",
        "\n",
        "# Subplots.\n",
        "fig, ax = plt.subplots(figsize=(14, 6))\n",
        "\n",
        "# Add scatter plots.\n",
        "ax.scatter(lst_df_urban['datetime'], lst_df_urban['LST_Day_1km'],\n",
        "           c='black', alpha=0.2, label='Temperature [C]')\n",
        "\n",
        "# Add some parameters.\n",
        "ax.set_title('Daytime Land Surface Temperature', fontsize=16)\n",
        "ax.set_xlabel('Date', fontsize=14)\n",
        "ax.set_ylabel('Temperature [C]', fontsize=14)\n",
        "ax.set_ylim(-0, 40)\n",
        "ax.grid(lw=0.2)\n",
        "ax.legend(fontsize=14, loc='lower right')\n",
        "\n",
        "plt.show()"
      ],
      "execution_count": null,
      "outputs": []
    },
    {
      "cell_type": "markdown",
      "metadata": {
        "id": "8Myr7fcRMIK5"
      },
      "source": [
        "Plot the ndvi over time"
      ]
    },
    {
      "cell_type": "code",
      "metadata": {
        "id": "VsOUKwN_Axow"
      },
      "source": [
        "## First, extract x values (times) from the dfs.\n",
        "x_data_u = np.asanyarray(ndvi_df['time'].apply(float))  \n",
        "\n",
        "## Secondly, extract y values (LST) from the dfs.\n",
        "y_data_u = np.asanyarray(ndvi_df['NDVI'].apply(float))  \n",
        "\n",
        "# Subplots.\n",
        "fig, ax = plt.subplots(figsize=(14, 6))\n",
        "\n",
        "# Add scatter plots.\n",
        "ax.scatter(ndvi_df['datetime'], ndvi_df['NDVI'],\n",
        "           c='black', alpha=0.2, label='NDVI')\n",
        "\n",
        "# Add some parameters.\n",
        "ax.set_xlabel('Date', fontsize=14)\n",
        "ax.set_ylabel('NDVI', fontsize=14)\n",
        "ax.grid(lw=0.2)\n",
        "ax.legend(fontsize=14, loc='lower right')\n",
        "\n",
        "plt.show()"
      ],
      "execution_count": null,
      "outputs": []
    }
  ]
}