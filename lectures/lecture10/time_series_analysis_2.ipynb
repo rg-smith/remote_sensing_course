{
  "nbformat": 4,
  "nbformat_minor": 0,
  "metadata": {
    "colab": {
      "name": "time_series_analysis_2.ipynb",
      "provenance": [],
      "collapsed_sections": [],
      "authorship_tag": "ABX9TyMLxqRD8djhZF1qZ7EnEsk4",
      "include_colab_link": true
    },
    "kernelspec": {
      "name": "python3",
      "display_name": "Python 3"
    },
    "language_info": {
      "name": "python"
    }
  },
  "cells": [
    {
      "cell_type": "markdown",
      "metadata": {
        "id": "view-in-github",
        "colab_type": "text"
      },
      "source": [
        "<a href=\"https://colab.research.google.com/github/rg-smith/remote_sensing_course/blob/main/lectures/lecture10/time_series_analysis_2.ipynb\" target=\"_parent\"><img src=\"https://colab.research.google.com/assets/colab-badge.svg\" alt=\"Open In Colab\"/></a>"
      ]
    },
    {
      "cell_type": "code",
      "execution_count": 1,
      "metadata": {
        "colab": {
          "base_uri": "https://localhost:8080/"
        },
        "id": "vePiRFw1wXpX",
        "outputId": "e9dc184c-1b99-4c17-c6fd-6442a89d1b13"
      },
      "outputs": [
        {
          "output_type": "stream",
          "name": "stdout",
          "text": [
            "Cloning into 'remote_sensing_course'...\n",
            "remote: Enumerating objects: 469, done.\u001b[K\n",
            "remote: Counting objects: 100% (246/246), done.\u001b[K\n",
            "remote: Compressing objects: 100% (157/157), done.\u001b[K\n",
            "remote: Total 469 (delta 64), reused 244 (delta 63), pack-reused 223\u001b[K\n",
            "Receiving objects: 100% (469/469), 318.67 MiB | 21.42 MiB/s, done.\n",
            "Resolving deltas: 100% (128/128), done.\n",
            "Checking out files: 100% (109/109), done.\n"
          ]
        }
      ],
      "source": [
        "!git clone https://github.com/rg-smith/remote_sensing_course.git"
      ]
    },
    {
      "cell_type": "code",
      "source": [
        "!pip install rasterio\n",
        "!pip install geopandas"
      ],
      "metadata": {
        "id": "KD2PPmAcwshe",
        "colab": {
          "base_uri": "https://localhost:8080/"
        },
        "outputId": "3b149e6d-9556-4a92-f342-8469dd2be8e1"
      },
      "execution_count": 2,
      "outputs": [
        {
          "output_type": "stream",
          "name": "stdout",
          "text": [
            "Collecting rasterio\n",
            "  Downloading rasterio-1.2.10-cp37-cp37m-manylinux1_x86_64.whl (19.3 MB)\n",
            "\u001b[K     |████████████████████████████████| 19.3 MB 1.4 MB/s \n",
            "\u001b[?25hCollecting snuggs>=1.4.1\n",
            "  Downloading snuggs-1.4.7-py3-none-any.whl (5.4 kB)\n",
            "Requirement already satisfied: attrs in /usr/local/lib/python3.7/dist-packages (from rasterio) (21.4.0)\n",
            "Requirement already satisfied: numpy in /usr/local/lib/python3.7/dist-packages (from rasterio) (1.21.6)\n",
            "Requirement already satisfied: setuptools in /usr/local/lib/python3.7/dist-packages (from rasterio) (57.4.0)\n",
            "Requirement already satisfied: certifi in /usr/local/lib/python3.7/dist-packages (from rasterio) (2021.10.8)\n",
            "Requirement already satisfied: click>=4.0 in /usr/local/lib/python3.7/dist-packages (from rasterio) (7.1.2)\n",
            "Collecting click-plugins\n",
            "  Downloading click_plugins-1.1.1-py2.py3-none-any.whl (7.5 kB)\n",
            "Collecting affine\n",
            "  Downloading affine-2.3.1-py2.py3-none-any.whl (16 kB)\n",
            "Collecting cligj>=0.5\n",
            "  Downloading cligj-0.7.2-py3-none-any.whl (7.1 kB)\n",
            "Requirement already satisfied: pyparsing>=2.1.6 in /usr/local/lib/python3.7/dist-packages (from snuggs>=1.4.1->rasterio) (3.0.8)\n",
            "Installing collected packages: snuggs, cligj, click-plugins, affine, rasterio\n",
            "Successfully installed affine-2.3.1 click-plugins-1.1.1 cligj-0.7.2 rasterio-1.2.10 snuggs-1.4.7\n",
            "Collecting geopandas\n",
            "  Downloading geopandas-0.10.2-py2.py3-none-any.whl (1.0 MB)\n",
            "\u001b[K     |████████████████████████████████| 1.0 MB 5.3 MB/s \n",
            "\u001b[?25hCollecting pyproj>=2.2.0\n",
            "  Downloading pyproj-3.2.1-cp37-cp37m-manylinux2010_x86_64.whl (6.3 MB)\n",
            "\u001b[K     |████████████████████████████████| 6.3 MB 40.4 MB/s \n",
            "\u001b[?25hRequirement already satisfied: shapely>=1.6 in /usr/local/lib/python3.7/dist-packages (from geopandas) (1.8.1.post1)\n",
            "Collecting fiona>=1.8\n",
            "  Downloading Fiona-1.8.21-cp37-cp37m-manylinux2014_x86_64.whl (16.7 MB)\n",
            "\u001b[K     |████████████████████████████████| 16.7 MB 399 kB/s \n",
            "\u001b[?25hRequirement already satisfied: pandas>=0.25.0 in /usr/local/lib/python3.7/dist-packages (from geopandas) (1.3.5)\n",
            "Requirement already satisfied: setuptools in /usr/local/lib/python3.7/dist-packages (from fiona>=1.8->geopandas) (57.4.0)\n",
            "Requirement already satisfied: attrs>=17 in /usr/local/lib/python3.7/dist-packages (from fiona>=1.8->geopandas) (21.4.0)\n",
            "Requirement already satisfied: six>=1.7 in /usr/local/lib/python3.7/dist-packages (from fiona>=1.8->geopandas) (1.15.0)\n",
            "Collecting munch\n",
            "  Downloading munch-2.5.0-py2.py3-none-any.whl (10 kB)\n",
            "Requirement already satisfied: click>=4.0 in /usr/local/lib/python3.7/dist-packages (from fiona>=1.8->geopandas) (7.1.2)\n",
            "Requirement already satisfied: click-plugins>=1.0 in /usr/local/lib/python3.7/dist-packages (from fiona>=1.8->geopandas) (1.1.1)\n",
            "Requirement already satisfied: cligj>=0.5 in /usr/local/lib/python3.7/dist-packages (from fiona>=1.8->geopandas) (0.7.2)\n",
            "Requirement already satisfied: certifi in /usr/local/lib/python3.7/dist-packages (from fiona>=1.8->geopandas) (2021.10.8)\n",
            "Requirement already satisfied: python-dateutil>=2.7.3 in /usr/local/lib/python3.7/dist-packages (from pandas>=0.25.0->geopandas) (2.8.2)\n",
            "Requirement already satisfied: pytz>=2017.3 in /usr/local/lib/python3.7/dist-packages (from pandas>=0.25.0->geopandas) (2022.1)\n",
            "Requirement already satisfied: numpy>=1.17.3 in /usr/local/lib/python3.7/dist-packages (from pandas>=0.25.0->geopandas) (1.21.6)\n",
            "Installing collected packages: munch, pyproj, fiona, geopandas\n",
            "Successfully installed fiona-1.8.21 geopandas-0.10.2 munch-2.5.0 pyproj-3.2.1\n"
          ]
        }
      ]
    },
    {
      "cell_type": "code",
      "source": [
        "import rasterio\n",
        "import matplotlib.pyplot as plt\n",
        "import geopandas as gpd\n",
        "from glob import glob\n",
        "import numpy as np"
      ],
      "metadata": {
        "id": "FcS5SmxbwnYY"
      },
      "execution_count": 3,
      "outputs": []
    },
    {
      "cell_type": "markdown",
      "source": [
        "First, we will get a list of all the rasters in the lecture10/rasters folder, and extract the dates from the filenames"
      ],
      "metadata": {
        "id": "OqAVZFGP3ocl"
      }
    },
    {
      "cell_type": "code",
      "source": [
        "files = glob('remote_sensing_course/lectures/lecture10/rasters/*.tif')\n",
        "print(files)\n",
        "fnames = list(f.split('/')[-1] for f in files)\n",
        "dates = list(f.split('_')[1] for f in fnames)\n",
        "dates_np = np.array(dates,dtype='datetime64')\n",
        "print(dates_np)\n",
        "print(len(dates_np))"
      ],
      "metadata": {
        "colab": {
          "base_uri": "https://localhost:8080/"
        },
        "id": "VfTI0AwmxGwg",
        "outputId": "1da2e3e4-a5a4-44b9-cf02-fc806f3ba246"
      },
      "execution_count": 5,
      "outputs": [
        {
          "output_type": "stream",
          "name": "stdout",
          "text": [
            "['remote_sensing_course/lectures/lecture10/rasters/L1C_2018-09-28_S2B.tif', 'remote_sensing_course/lectures/lecture10/rasters/L1C_2018-06-02_S2A.tif', 'remote_sensing_course/lectures/lecture10/rasters/L1C_2018-05-11_S2B.tif', 'remote_sensing_course/lectures/lecture10/rasters/L1C_2018-07-07_S2B.tif', 'remote_sensing_course/lectures/lecture10/rasters/L1C_2018-05-31_S2B.tif', 'remote_sensing_course/lectures/lecture10/rasters/L1C_2018-09-15_S2B.tif', 'remote_sensing_course/lectures/lecture10/rasters/L1C_2018-08-01_S2A.tif', 'remote_sensing_course/lectures/lecture10/rasters/L1C_2018-09-20_S2A.tif', 'remote_sensing_course/lectures/lecture10/rasters/L1C_2018-08-26_S2B.tif', 'remote_sensing_course/lectures/lecture10/rasters/L1C_2018-08-16_S2B.tif', 'remote_sensing_course/lectures/lecture10/rasters/L1C_2018-08-31_S2A.tif', 'remote_sensing_course/lectures/lecture10/rasters/L1C_2018-05-26_S2A.tif', 'remote_sensing_course/lectures/lecture10/rasters/L1C_2018-04-01_S2B.tif', 'remote_sensing_course/lectures/lecture10/rasters/L1C_2018-07-05_S2A.tif', 'remote_sensing_course/lectures/lecture10/rasters/L1C_2018-05-23_S2A.tif', 'remote_sensing_course/lectures/lecture10/rasters/L1C_2018-05-03_S2A.tif', 'remote_sensing_course/lectures/lecture10/rasters/L1C_2018-08-09_S2B.tif', 'remote_sensing_course/lectures/lecture10/rasters/L1C_2018-06-07_S2B.tif', 'remote_sensing_course/lectures/lecture10/rasters/L1C_2018-08-04_S2A.tif', 'remote_sensing_course/lectures/lecture10/rasters/L1C_2018-09-08_S2B.tif', 'remote_sensing_course/lectures/lecture10/rasters/L1C_2018-04-13_S2A.tif', 'remote_sensing_course/lectures/lecture10/rasters/L1C_2018-05-13_S2A.tif', 'remote_sensing_course/lectures/lecture10/rasters/L1C_2018-05-21_S2B.tif', 'remote_sensing_course/lectures/lecture10/rasters/L1C_2018-04-21_S2B.tif', 'remote_sensing_course/lectures/lecture10/rasters/L1C_2018-08-19_S2B.tif', 'remote_sensing_course/lectures/lecture10/rasters/L1C_2018-06-12_S2A.tif', 'remote_sensing_course/lectures/lecture10/rasters/L1C_2018-04-06_S2A.tif', 'remote_sensing_course/lectures/lecture10/rasters/L1C_2018-04-23_S2A.tif', 'remote_sensing_course/lectures/lecture10/rasters/L1C_2018-06-25_S2A.tif', 'remote_sensing_course/lectures/lecture10/rasters/L1C_2018-04-16_S2A.tif', 'remote_sensing_course/lectures/lecture10/rasters/L1C_2018-06-10_S2B.tif', 'remote_sensing_course/lectures/lecture10/rasters/L1C_2018-07-20_S2B.tif', 'remote_sensing_course/lectures/lecture10/rasters/L1C_2018-05-28_S2B.tif', 'remote_sensing_course/lectures/lecture10/rasters/L1C_2018-05-18_S2B.tif', 'remote_sensing_course/lectures/lecture10/rasters/L1C_2018-07-10_S2B.tif', 'remote_sensing_course/lectures/lecture10/rasters/L1C_2018-05-08_S2B.tif', 'remote_sensing_course/lectures/lecture10/rasters/L1C_2018-06-17_S2B.tif', 'remote_sensing_course/lectures/lecture10/rasters/L1C_2018-07-27_S2B.tif', 'remote_sensing_course/lectures/lecture10/rasters/L1C_2018-08-24_S2A.tif', 'remote_sensing_course/lectures/lecture10/rasters/L1C_2018-07-17_S2B.tif', 'remote_sensing_course/lectures/lecture10/rasters/L1C_2018-08-14_S2A.tif', 'remote_sensing_course/lectures/lecture10/rasters/L1C_2018-05-06_S2A.tif', 'remote_sensing_course/lectures/lecture10/rasters/L1C_2018-08-21_S2A.tif', 'remote_sensing_course/lectures/lecture10/rasters/L1C_2018-09-25_S2B.tif', 'remote_sensing_course/lectures/lecture10/rasters/L1C_2018-09-03_S2A.tif', 'remote_sensing_course/lectures/lecture10/rasters/L1C_2018-05-01_S2B.tif', 'remote_sensing_course/lectures/lecture10/rasters/L1C_2018-04-18_S2B.tif', 'remote_sensing_course/lectures/lecture10/rasters/L1C_2018-04-03_S2A.tif', 'remote_sensing_course/lectures/lecture10/rasters/L1C_2018-06-15_S2A.tif', 'remote_sensing_course/lectures/lecture10/rasters/L1C_2018-04-28_S2B.tif', 'remote_sensing_course/lectures/lecture10/rasters/L1C_2018-06-05_S2A.tif', 'remote_sensing_course/lectures/lecture10/rasters/L1C_2018-09-23_S2A.tif', 'remote_sensing_course/lectures/lecture10/rasters/L1C_2018-04-26_S2A.tif', 'remote_sensing_course/lectures/lecture10/rasters/L1C_2018-06-22_S2A.tif', 'remote_sensing_course/lectures/lecture10/rasters/L1C_2018-07-22_S2A.tif', 'remote_sensing_course/lectures/lecture10/rasters/L1C_2018-09-05_S2B.tif', 'remote_sensing_course/lectures/lecture10/rasters/L1C_2018-07-25_S2A.tif', 'remote_sensing_course/lectures/lecture10/rasters/L1C_2018-07-12_S2A.tif', 'remote_sensing_course/lectures/lecture10/rasters/L1C_2018-06-30_S2B.tif', 'remote_sensing_course/lectures/lecture10/rasters/L1C_2018-09-10_S2A.tif', 'remote_sensing_course/lectures/lecture10/rasters/L1C_2018-09-18_S2B.tif', 'remote_sensing_course/lectures/lecture10/rasters/L1C_2018-07-15_S2A.tif', 'remote_sensing_course/lectures/lecture10/rasters/L1C_2018-07-02_S2A.tif', 'remote_sensing_course/lectures/lecture10/rasters/L1C_2018-04-08_S2B.tif', 'remote_sensing_course/lectures/lecture10/rasters/L1C_2018-04-11_S2B.tif', 'remote_sensing_course/lectures/lecture10/rasters/L1C_2018-08-06_S2B.tif', 'remote_sensing_course/lectures/lecture10/rasters/L1C_2018-06-27_S2B.tif', 'remote_sensing_course/lectures/lecture10/rasters/L1C_2018-05-16_S2A.tif', 'remote_sensing_course/lectures/lecture10/rasters/L1C_2018-09-13_S2A.tif']\n",
            "['2018-09-28' '2018-06-02' '2018-05-11' '2018-07-07' '2018-05-31'\n",
            " '2018-09-15' '2018-08-01' '2018-09-20' '2018-08-26' '2018-08-16'\n",
            " '2018-08-31' '2018-05-26' '2018-04-01' '2018-07-05' '2018-05-23'\n",
            " '2018-05-03' '2018-08-09' '2018-06-07' '2018-08-04' '2018-09-08'\n",
            " '2018-04-13' '2018-05-13' '2018-05-21' '2018-04-21' '2018-08-19'\n",
            " '2018-06-12' '2018-04-06' '2018-04-23' '2018-06-25' '2018-04-16'\n",
            " '2018-06-10' '2018-07-20' '2018-05-28' '2018-05-18' '2018-07-10'\n",
            " '2018-05-08' '2018-06-17' '2018-07-27' '2018-08-24' '2018-07-17'\n",
            " '2018-08-14' '2018-05-06' '2018-08-21' '2018-09-25' '2018-09-03'\n",
            " '2018-05-01' '2018-04-18' '2018-04-03' '2018-06-15' '2018-04-28'\n",
            " '2018-06-05' '2018-09-23' '2018-04-26' '2018-06-22' '2018-07-22'\n",
            " '2018-09-05' '2018-07-25' '2018-07-12' '2018-06-30' '2018-09-10'\n",
            " '2018-09-18' '2018-07-15' '2018-07-02' '2018-04-08' '2018-04-11'\n",
            " '2018-08-06' '2018-06-27' '2018-05-16' '2018-09-13']\n",
            "69\n"
          ]
        }
      ]
    },
    {
      "cell_type": "code",
      "source": [
        "ts = np.zeros(len(files))\n",
        "ts_c = np.zeros(len(files))\n",
        "for i, file in enumerate(files):\n",
        "  r = rasterio.open(file)\n",
        "  array = r.read(1)\n",
        "  array_c = r.read(2)\n",
        "  if i==0:\n",
        "    array_mean = array\n",
        "  else:\n",
        "    array_mean = array_mean+array\n",
        "  ts[i] = array[460,360]\n",
        "  ts_c[i] = array_c[460,360]\n",
        "array_mean = array_mean/len(files)\n"
      ],
      "metadata": {
        "id": "vuJSpFyj3uLW"
      },
      "execution_count": 15,
      "outputs": []
    },
    {
      "cell_type": "code",
      "source": [
        "plt.figure(figsize=(12,12));plt.imshow(array_mean[450:475,340:390])"
      ],
      "metadata": {
        "colab": {
          "base_uri": "https://localhost:8080/",
          "height": 401
        },
        "id": "fyk9115c4A6g",
        "outputId": "67929a76-c25d-4025-dd81-4b88894bbf85"
      },
      "execution_count": 11,
      "outputs": [
        {
          "output_type": "execute_result",
          "data": {
            "text/plain": [
              "<matplotlib.image.AxesImage at 0x7fd1d6b09750>"
            ]
          },
          "metadata": {},
          "execution_count": 11
        },
        {
          "output_type": "display_data",
          "data": {
            "text/plain": [
              "<Figure size 864x864 with 1 Axes>"
            ],
            "image/png": "[encoded data removed]"
          },
          "metadata": {
            "needs_background": "light"
          }
        }
      ]
    },
    {
      "cell_type": "code",
      "source": [
        "plt.figure(figsize=(12,8));plt.plot(dates_np,ts,'o')\n",
        "plt.figure(figsize=(12,8));plt.plot(dates_np,ts_c,'o')"
      ],
      "metadata": {
        "colab": {
          "base_uri": "https://localhost:8080/",
          "height": 967
        },
        "id": "kzP-W7O75G8r",
        "outputId": "8e7ae6f9-98eb-4190-986b-e4600fbffd6c"
      },
      "execution_count": 16,
      "outputs": [
        {
          "output_type": "execute_result",
          "data": {
            "text/plain": [
              "[<matplotlib.lines.Line2D at 0x7fd1d4c4d2d0>]"
            ]
          },
          "metadata": {},
          "execution_count": 16
        },
        {
          "output_type": "display_data",
          "data": {
            "text/plain": [
              "<Figure size 864x576 with 1 Axes>"
            ],
            "image/png": "[encoded data removed]"
          },
          "metadata": {
            "needs_background": "light"
          }
        },
        {
          "output_type": "display_data",
          "data": {
            "text/plain": [
              "<Figure size 864x576 with 1 Axes>"
            ],
            "image/png": "[encoded data removed]"
          },
          "metadata": {
            "needs_background": "light"
          }
        }
      ]
    },
    {
      "cell_type": "code",
      "source": [
        "ts[ts_c==1] = np.nan\n",
        "plt.figure(figsize=(12,8));plt.plot(dates_np,ts,'o')"
      ],
      "metadata": {
        "id": "Z_8mU6X-99hI",
        "outputId": "4edd4625-860b-4d8d-e957-ebad7185cbdd",
        "colab": {
          "base_uri": "https://localhost:8080/",
          "height": 501
        }
      },
      "execution_count": 17,
      "outputs": [
        {
          "output_type": "execute_result",
          "data": {
            "text/plain": [
              "[<matplotlib.lines.Line2D at 0x7fd1d4af88d0>]"
            ]
          },
          "metadata": {},
          "execution_count": 17
        },
        {
          "output_type": "display_data",
          "data": {
            "text/plain": [
              "<Figure size 864x576 with 1 Axes>"
            ],
            "image/png": "[encoded data removed]"
          },
          "metadata": {
            "needs_background": "light"
          }
        }
      ]
    }
  ]
}